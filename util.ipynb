{
 "cells": [
  {
   "cell_type": "code",
   "execution_count": 3,
   "metadata": {},
   "outputs": [
    {
     "name": "stdout",
     "output_type": "stream",
     "text": [
      "Step 1: Initialization Completed Succesfully.\n"
     ]
    }
   ],
   "source": [
    "from sentinelhub import SHConfig\n",
    "import os\n",
    "import datetime\n",
    "from sentinelhub import MimeType, CRS, BBox, SentinelHubRequest, SentinelHubDownloadClient, DataCollection, bbox_to_dimensions, DownloadRequest, Geometry\n",
    "\n",
    "\n",
    "config = SHConfig()\n",
    "config.sh_client_secret = '.[rPT/|A?/I)({^z.)x2_,D{HhJ^;EHq[DYv~UQ['\n",
    "config.sh_client_id = '2bd35ae0-96d0-49d9-a575-b5b63a3c02f0'\n",
    "config.save()\n",
    "if not config.sh_client_id or not config.sh_client_secret:\n",
    "    print(\"Warning! To use Process API, please provide the credentials (OAuth client ID and client secret).\")\n",
    "else:\n",
    "    print('Step 1: Initialization Completed Succesfully.')\n",
    "# Use a service account\n",
    "# cred = credentials.Certificate('crop-identification-pk-firebase.json')\n",
    "# firebase_admin.initialize_app(cred)\n",
    "# db = firestore.client()"
   ]
  },
  {
   "cell_type": "code",
   "execution_count": 4,
   "metadata": {},
   "outputs": [],
   "source": [
    "def swap(list,check):\n",
    "    n = 2 if len(list)%2 == 0 else 3\n",
    "    for i in range(0,len(list),n):\n",
    "        list[i],list[i+1] = float(list[i+1]), float(list[i])\n",
    "    if(check):\n",
    "        list.append(list[0])\n",
    "        list.append(list[1]) \n",
    "    return list"
   ]
  },
  {
   "cell_type": "code",
   "execution_count": 5,
   "metadata": {},
   "outputs": [],
   "source": [
    "true = \"\"\"\n",
    "//VERSION=3\n",
    "function setup(){\n",
    "  return{\n",
    "    input: [\"B02\", \"B03\", \"B04\", \"dataMask\"],\n",
    "    output: {bands: 4}\n",
    "  }\n",
    "}\n",
    "\n",
    "function evaluatePixel(sample){\n",
    "  // Set gain for visualisation\n",
    "  let gain = 2.5;\n",
    "  // Return RGB\n",
    "  return [sample.B04 * gain, sample.B03 * gain, sample.B02 * gain, sample.dataMask];\n",
    "}\n",
    "\"\"\""
   ]
  },
  {
   "cell_type": "code",
   "execution_count": 6,
   "metadata": {},
   "outputs": [],
   "source": [
    "\n",
    "evalscript_ndvi_new = \"\"\"\n",
    "var naturalColour = [3*B04, 3*B03, 3*B02];\n",
    "\n",
    "let ndviColorMap = [\n",
    "\t[-1.0, 0x000000],\n",
    "\t[-0.2, 0xA50026],\n",
    "\t[0.0,  0xD73027],\n",
    "\t[0.1,  0xF46D43],\n",
    "\t[0.2,  0xFDAE61],\n",
    "\t[0.3,  0xFEE08B],\n",
    "\t[0.4,  0xFFFFBF],\n",
    "\t[0.5,  0xD9EF8B],\n",
    "\t[0.6,  0xA6D96A],\n",
    "\t[0.7,  0x66BD63],\n",
    "\t[0.8,  0x1A9850],\n",
    "    [0.9,  0x006837]\n",
    "];\n",
    "\n",
    "function index(x, y) {\n",
    "\treturn (x - y) / (x + y);\n",
    "}\n",
    "\n",
    "function toRGB(val) {\n",
    "\treturn [val >>> 16, val >>> 8, val].map(x => (x & 0xFF) / 0xFF);\n",
    "}\n",
    "\n",
    "function findColor(colValPairs, val) {\n",
    "\tlet n = colValPairs.length;\n",
    "\tfor (let i = 1; i < n; i++) {\n",
    "\t\tif (val <= colValPairs[i][0]) {\n",
    "\t\t\treturn toRGB(colValPairs[i-1][1]);\n",
    "\t\t}\n",
    "\t}\n",
    "\treturn toRGB(colValPairs[n-1][1]);\n",
    "}\n",
    "\n",
    "return findColor(ndviColorMap, index(B8A, B04))\n",
    "\"\"\""
   ]
  },
  {
   "cell_type": "code",
   "execution_count": 7,
   "metadata": {},
   "outputs": [],
   "source": [
    "wat = \"\"\"//\n",
    "VERSION=3\n",
    "//This script was converted from v1 to v3 using the converter API\n",
    "\n",
    "//ndwi\n",
    "var colorRamp1 = [\n",
    "  \t[0, 0xFFFFFF],\n",
    "  \t[1, 0x008000]\n",
    "  ];\n",
    "var colorRamp2 = [\n",
    "  \t[0, 0xFFFFFF],\n",
    "  \t[1, 0x0000CC]\n",
    "  ];\n",
    "\n",
    "let viz1 = new ColorRampVisualizer(colorRamp1);\n",
    "let viz2 = new ColorRampVisualizer(colorRamp2);\n",
    "\n",
    "function evaluatePixel(samples) {\n",
    "  var val = index(samples.B03, samples.B08);\n",
    "\n",
    "  if (val < -0) {\n",
    "    return viz1.process(-val);\n",
    "  } else {\n",
    "    return viz2.process(Math.sqrt(Math.sqrt(val)));\n",
    "  }\n",
    "}\n",
    "\n",
    "function setup() {\n",
    "  return {\n",
    "    input: [{\n",
    "      bands: [\n",
    "        \"B03\",\n",
    "        \"B08\"\n",
    "      ]\n",
    "    }],\n",
    "    output: {\n",
    "      bands: 3\n",
    "    }\n",
    "  }\n",
    "}\n",
    "\"\"\""
   ]
  },
  {
   "cell_type": "code",
   "execution_count": 8,
   "metadata": {},
   "outputs": [
    {
     "name": "stdout",
     "output_type": "stream",
     "text": [
      "Step 3: Setup EvalScript Completed Successfully.\n"
     ]
    }
   ],
   "source": [
    "\n",
    "def evalscript_request(time_interval,evalscript,geometry, size):\n",
    "    return SentinelHubRequest(\n",
    "        evalscript=evalscript,\n",
    "        input_data=[\n",
    "            SentinelHubRequest.input_data(\n",
    "                data_collection = DataCollection.SENTINEL2_L2A,\n",
    "                time_interval = time_interval,\n",
    "                # mosaicking_order = 'leastCC',\n",
    "                other_args = {\"dataFilter\": {\"maxCloudCoverage\": 0}},\n",
    "                # maxcc = 10\n",
    "            )\n",
    "        ],\n",
    "        responses=[\n",
    "            SentinelHubRequest.output_response('default', MimeType.TIFF)\n",
    "        ],\n",
    "        geometry=geometry,\n",
    "        size=size,\n",
    "        config=config\n",
    "    )\n",
    "print('Step 3: Setup EvalScript Completed Successfully.')"
   ]
  },
  {
   "cell_type": "code",
   "execution_count": 13,
   "metadata": {},
   "outputs": [],
   "source": [
    "def dat(st_date, en_date, n=2, points=None, es = \"rgb\"):\n",
    "    y1, m1, d1 = st_date.split(\",\")\n",
    "    y2, m2, d2 = en_date.split(\",\")\n",
    "    \n",
    "    \n",
    "    start =datetime.datetime(y1,m1,d1)\n",
    "    end = datetime.datetime(y2,m2,d2)\n",
    "           \n",
    "    n_chunks = n\n",
    "    tdelta = (end - start) / n_chunks\n",
    "    edges = [(start + i*tdelta).date().isoformat() for i in range(n_chunks)]\n",
    "    slots = [(edges[i], edges[i+1]) for i in range(len(edges)-1)]\n",
    "    # return slots\n",
    "    \n",
    "    \n",
    "    data = []\n",
    "    if es == \"ndvi\":\n",
    "        geometry = Geometry(geometry={\"type\":\"Polygon\",\"coordinates\":[np.reshape(swap(points,1), (-1, 2))]}, crs=CRS.WGS84)\n",
    "        size = bbox_to_dimensions(geometry.bbox, resolution=10)\n",
    "        list_of_requests = [evalscript_request(slot, evalscript_ndvi_new, geometry, size) for slot in slots]\n",
    "        list_of_requests = [request.download_list[0] for request in list_of_requests]\n",
    "        data.append(SentinelHubDownloadClient(config=config).download(list_of_requests, max_threads=5))\n",
    "    \n",
    "    if es == \"ndwi\":\n",
    "        geometry = Geometry(geometry={\"type\":\"Polygon\",\"coordinates\":[np.reshape(swap(points,1), (-1, 2))]}, crs=CRS.WGS84)\n",
    "        size = bbox_to_dimensions(geometry.bbox, resolution=10)\n",
    "        list_of_requests = [evalscript_request(slot, wat, geometry, size) for slot in slots]\n",
    "        list_of_requests = [request.download_list[0] for request in list_of_requests]\n",
    "        data.append(SentinelHubDownloadClient(config=config).download(list_of_requests, max_threads=5))\n",
    "        \n",
    "    if es == \"rgb\":\n",
    "        geometry = Geometry(geometry={\"type\":\"Polygon\",\"coordinates\":[np.reshape(swap(points,1), (-1, 2))]}, crs=CRS.WGS84)\n",
    "        size = bbox_to_dimensions(geometry.bbox, resolution=10)\n",
    "        list_of_requests = [evalscript_request(slot, evalscript_ndvi_new, geometry, size) for slot in slots]\n",
    "        list_of_requests = [request.download_list[0] for request in list_of_requests]\n",
    "        data.append(SentinelHubDownloadClient(config=config).download(list_of_requests, max_threads=5))\n",
    "    \n",
    "    return data\n",
    "    "
   ]
  },
  {
   "cell_type": "code",
   "execution_count": 2,
   "metadata": {},
   "outputs": [
    {
     "data": {
      "text/plain": [
       "{'detail': [{'loc': ['body'],\n",
       "   'msg': 'value is not a valid dict',\n",
       "   'type': 'type_error.dict'}]}"
      ]
     },
     "execution_count": 2,
     "metadata": {},
     "output_type": "execute_result"
    }
   ],
   "source": [
    "import requests\n",
    "import json\n",
    "\n",
    "st = \"2020,3,12\"\n",
    "en = \"2020,4,13\" \n",
    "points=['30.396205893130897',\n",
    " '73.5142720118165',\n",
    " '30.396216593214966',\n",
    " '73.51282797753811',\n",
    " '30.394866638221142',\n",
    " '73.5128889977932',\n",
    " '30.394874157302326',\n",
    " '73.51428642868996']\n",
    "\n",
    "req = requests.post(url=\"http://127.0.0.1:8000/\", json = st )\n",
    "req.json()"
   ]
  },
  {
   "cell_type": "code",
   "execution_count": 1,
   "metadata": {},
   "outputs": [],
   "source": [
    "import imageio"
   ]
  },
  {
   "cell_type": "code",
   "execution_count": null,
   "metadata": {},
   "outputs": [],
   "source": []
  }
 ],
 "metadata": {
  "kernelspec": {
   "display_name": "sentapi",
   "language": "python",
   "name": "python3"
  },
  "language_info": {
   "codemirror_mode": {
    "name": "ipython",
    "version": 3
   },
   "file_extension": ".py",
   "mimetype": "text/x-python",
   "name": "python",
   "nbconvert_exporter": "python",
   "pygments_lexer": "ipython3",
   "version": "3.10.10"
  },
  "orig_nbformat": 4
 },
 "nbformat": 4,
 "nbformat_minor": 2
}
